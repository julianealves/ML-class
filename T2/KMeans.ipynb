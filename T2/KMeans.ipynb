{
 "cells": [
  {
   "cell_type": "code",
   "execution_count": 28,
   "id": "50c2bfd4-d03d-4714-b16e-68954035eae8",
   "metadata": {},
   "outputs": [],
   "source": [
    "import pandas as pd\n",
    "from sklearn.preprocessing import OneHotEncoder\n",
    "from sklearn.preprocessing import MinMaxScaler\n",
    "from sklearn.cluster import KMeans\n",
    "import matplotlib.pyplot as plt\n",
    "import numpy as np"
   ]
  },
  {
   "cell_type": "code",
   "execution_count": 29,
   "id": "35a71e85-b4ab-42cf-a5dc-3d6da6c8844f",
   "metadata": {},
   "outputs": [],
   "source": [
    "def convert_feature_one_hot_encoder(df: pd.DataFrame, feature: str) -> pd.DataFrame:\n",
    "    \"\"\"\n",
    "    This method receives a Pandas dataframe and convert some features using the One Hot Encoder\n",
    "    \n",
    "    :param df: A Pandas dataframe\n",
    "    :param feature: The name of the feature to convert\n",
    "    :return: A Pandas dataframe with the features converted\n",
    "    \"\"\"\n",
    "    ohe = OneHotEncoder()\n",
    "    ohe.fit(df[feature].to_numpy().reshape(-1, 1))\n",
    "    transformed = ohe.transform(df[feature].to_numpy().reshape(-1, 1)).toarray()\n",
    "    columns = []\n",
    "    for c in ohe.get_feature_names():\n",
    "        columns.append(c.replace(\"x0\", feature))\n",
    "    ohe_df = pd.DataFrame(transformed, columns=columns)\n",
    "    # Concats the result with the original data\n",
    "    return pd.concat([df, ohe_df], axis=1)"
   ]
  },
  {
   "cell_type": "code",
   "execution_count": 37,
   "id": "93425202-5fae-4672-aca9-0009e2f1ecba",
   "metadata": {},
   "outputs": [],
   "source": [
    "df = pd.read_csv(\"dados/bank_t2.txt\", delimiter = \"\\t\")"
   ]
  },
  {
   "cell_type": "code",
   "execution_count": 38,
   "id": "014b86c0-4481-4f18-8bb5-99be395f6aff",
   "metadata": {},
   "outputs": [
    {
     "data": {
      "text/html": [
       "<div>\n",
       "<style scoped>\n",
       "    .dataframe tbody tr th:only-of-type {\n",
       "        vertical-align: middle;\n",
       "    }\n",
       "\n",
       "    .dataframe tbody tr th {\n",
       "        vertical-align: top;\n",
       "    }\n",
       "\n",
       "    .dataframe thead th {\n",
       "        text-align: right;\n",
       "    }\n",
       "</style>\n",
       "<table border=\"1\" class=\"dataframe\">\n",
       "  <thead>\n",
       "    <tr style=\"text-align: right;\">\n",
       "      <th></th>\n",
       "      <th>age</th>\n",
       "      <th>marital</th>\n",
       "      <th>education</th>\n",
       "      <th>housing.loan</th>\n",
       "      <th>personal.loan</th>\n",
       "      <th>contact</th>\n",
       "      <th>day.of.week</th>\n",
       "      <th>duration.contact</th>\n",
       "      <th>number.contatcs.campaign</th>\n",
       "      <th>poutcome</th>\n",
       "      <th>term.deposit</th>\n",
       "    </tr>\n",
       "  </thead>\n",
       "  <tbody>\n",
       "    <tr>\n",
       "      <th>0</th>\n",
       "      <td>30</td>\n",
       "      <td>married</td>\n",
       "      <td>basic</td>\n",
       "      <td>1</td>\n",
       "      <td>0</td>\n",
       "      <td>cellular</td>\n",
       "      <td>fri</td>\n",
       "      <td>487</td>\n",
       "      <td>2</td>\n",
       "      <td>nonexistent</td>\n",
       "      <td>0</td>\n",
       "    </tr>\n",
       "    <tr>\n",
       "      <th>1</th>\n",
       "      <td>39</td>\n",
       "      <td>single</td>\n",
       "      <td>high.school</td>\n",
       "      <td>0</td>\n",
       "      <td>0</td>\n",
       "      <td>telephone</td>\n",
       "      <td>fri</td>\n",
       "      <td>346</td>\n",
       "      <td>4</td>\n",
       "      <td>nonexistent</td>\n",
       "      <td>0</td>\n",
       "    </tr>\n",
       "    <tr>\n",
       "      <th>2</th>\n",
       "      <td>25</td>\n",
       "      <td>married</td>\n",
       "      <td>high.school</td>\n",
       "      <td>1</td>\n",
       "      <td>0</td>\n",
       "      <td>telephone</td>\n",
       "      <td>wed</td>\n",
       "      <td>227</td>\n",
       "      <td>1</td>\n",
       "      <td>nonexistent</td>\n",
       "      <td>0</td>\n",
       "    </tr>\n",
       "    <tr>\n",
       "      <th>3</th>\n",
       "      <td>47</td>\n",
       "      <td>married</td>\n",
       "      <td>university.degree</td>\n",
       "      <td>1</td>\n",
       "      <td>0</td>\n",
       "      <td>cellular</td>\n",
       "      <td>mon</td>\n",
       "      <td>58</td>\n",
       "      <td>1</td>\n",
       "      <td>nonexistent</td>\n",
       "      <td>0</td>\n",
       "    </tr>\n",
       "    <tr>\n",
       "      <th>4</th>\n",
       "      <td>32</td>\n",
       "      <td>single</td>\n",
       "      <td>university.degree</td>\n",
       "      <td>0</td>\n",
       "      <td>0</td>\n",
       "      <td>cellular</td>\n",
       "      <td>thu</td>\n",
       "      <td>128</td>\n",
       "      <td>3</td>\n",
       "      <td>failure</td>\n",
       "      <td>0</td>\n",
       "    </tr>\n",
       "  </tbody>\n",
       "</table>\n",
       "</div>"
      ],
      "text/plain": [
       "   age  marital          education  housing.loan  personal.loan    contact  \\\n",
       "0   30  married              basic             1              0   cellular   \n",
       "1   39   single        high.school             0              0  telephone   \n",
       "2   25  married        high.school             1              0  telephone   \n",
       "3   47  married  university.degree             1              0   cellular   \n",
       "4   32   single  university.degree             0              0   cellular   \n",
       "\n",
       "  day.of.week  duration.contact  number.contatcs.campaign     poutcome  \\\n",
       "0         fri               487                         2  nonexistent   \n",
       "1         fri               346                         4  nonexistent   \n",
       "2         wed               227                         1  nonexistent   \n",
       "3         mon                58                         1  nonexistent   \n",
       "4         thu               128                         3      failure   \n",
       "\n",
       "   term.deposit  \n",
       "0             0  \n",
       "1             0  \n",
       "2             0  \n",
       "3             0  \n",
       "4             0  "
      ]
     },
     "execution_count": 38,
     "metadata": {},
     "output_type": "execute_result"
    }
   ],
   "source": [
    "df.head()"
   ]
  },
  {
   "cell_type": "code",
   "execution_count": 39,
   "id": "9c58d413-0af7-4c96-ac31-08f6dd79e298",
   "metadata": {},
   "outputs": [
    {
     "data": {
      "text/html": [
       "<div>\n",
       "<style scoped>\n",
       "    .dataframe tbody tr th:only-of-type {\n",
       "        vertical-align: middle;\n",
       "    }\n",
       "\n",
       "    .dataframe tbody tr th {\n",
       "        vertical-align: top;\n",
       "    }\n",
       "\n",
       "    .dataframe thead th {\n",
       "        text-align: right;\n",
       "    }\n",
       "</style>\n",
       "<table border=\"1\" class=\"dataframe\">\n",
       "  <thead>\n",
       "    <tr style=\"text-align: right;\">\n",
       "      <th></th>\n",
       "      <th>age</th>\n",
       "      <th>housing.loan</th>\n",
       "      <th>personal.loan</th>\n",
       "      <th>duration.contact</th>\n",
       "      <th>number.contatcs.campaign</th>\n",
       "      <th>term.deposit</th>\n",
       "    </tr>\n",
       "  </thead>\n",
       "  <tbody>\n",
       "    <tr>\n",
       "      <th>count</th>\n",
       "      <td>3836.000000</td>\n",
       "      <td>3836.000000</td>\n",
       "      <td>3836.000000</td>\n",
       "      <td>3836.000000</td>\n",
       "      <td>3836.000000</td>\n",
       "      <td>3836.000000</td>\n",
       "    </tr>\n",
       "    <tr>\n",
       "      <th>mean</th>\n",
       "      <td>40.001564</td>\n",
       "      <td>0.543796</td>\n",
       "      <td>0.167101</td>\n",
       "      <td>256.438478</td>\n",
       "      <td>2.535975</td>\n",
       "      <td>0.108186</td>\n",
       "    </tr>\n",
       "    <tr>\n",
       "      <th>std</th>\n",
       "      <td>10.236627</td>\n",
       "      <td>0.498143</td>\n",
       "      <td>0.373115</td>\n",
       "      <td>256.860414</td>\n",
       "      <td>2.583371</td>\n",
       "      <td>0.310655</td>\n",
       "    </tr>\n",
       "    <tr>\n",
       "      <th>min</th>\n",
       "      <td>19.000000</td>\n",
       "      <td>0.000000</td>\n",
       "      <td>0.000000</td>\n",
       "      <td>0.000000</td>\n",
       "      <td>1.000000</td>\n",
       "      <td>0.000000</td>\n",
       "    </tr>\n",
       "    <tr>\n",
       "      <th>25%</th>\n",
       "      <td>32.000000</td>\n",
       "      <td>0.000000</td>\n",
       "      <td>0.000000</td>\n",
       "      <td>103.000000</td>\n",
       "      <td>1.000000</td>\n",
       "      <td>0.000000</td>\n",
       "    </tr>\n",
       "    <tr>\n",
       "      <th>50%</th>\n",
       "      <td>38.000000</td>\n",
       "      <td>1.000000</td>\n",
       "      <td>0.000000</td>\n",
       "      <td>180.000000</td>\n",
       "      <td>2.000000</td>\n",
       "      <td>0.000000</td>\n",
       "    </tr>\n",
       "    <tr>\n",
       "      <th>75%</th>\n",
       "      <td>47.000000</td>\n",
       "      <td>1.000000</td>\n",
       "      <td>0.000000</td>\n",
       "      <td>316.000000</td>\n",
       "      <td>3.000000</td>\n",
       "      <td>0.000000</td>\n",
       "    </tr>\n",
       "    <tr>\n",
       "      <th>max</th>\n",
       "      <td>88.000000</td>\n",
       "      <td>1.000000</td>\n",
       "      <td>1.000000</td>\n",
       "      <td>3643.000000</td>\n",
       "      <td>35.000000</td>\n",
       "      <td>1.000000</td>\n",
       "    </tr>\n",
       "  </tbody>\n",
       "</table>\n",
       "</div>"
      ],
      "text/plain": [
       "               age  housing.loan  personal.loan  duration.contact  \\\n",
       "count  3836.000000   3836.000000    3836.000000       3836.000000   \n",
       "mean     40.001564      0.543796       0.167101        256.438478   \n",
       "std      10.236627      0.498143       0.373115        256.860414   \n",
       "min      19.000000      0.000000       0.000000          0.000000   \n",
       "25%      32.000000      0.000000       0.000000        103.000000   \n",
       "50%      38.000000      1.000000       0.000000        180.000000   \n",
       "75%      47.000000      1.000000       0.000000        316.000000   \n",
       "max      88.000000      1.000000       1.000000       3643.000000   \n",
       "\n",
       "       number.contatcs.campaign  term.deposit  \n",
       "count               3836.000000   3836.000000  \n",
       "mean                   2.535975      0.108186  \n",
       "std                    2.583371      0.310655  \n",
       "min                    1.000000      0.000000  \n",
       "25%                    1.000000      0.000000  \n",
       "50%                    2.000000      0.000000  \n",
       "75%                    3.000000      0.000000  \n",
       "max                   35.000000      1.000000  "
      ]
     },
     "execution_count": 39,
     "metadata": {},
     "output_type": "execute_result"
    }
   ],
   "source": [
    "df.describe()"
   ]
  },
  {
   "cell_type": "code",
   "execution_count": 40,
   "id": "9c0e6f32-6be9-4313-86c7-6f13d6625334",
   "metadata": {},
   "outputs": [
    {
     "name": "stderr",
     "output_type": "stream",
     "text": [
      "/usr/local/lib/python3.9/dist-packages/sklearn/utils/deprecation.py:87: FutureWarning: Function get_feature_names is deprecated; get_feature_names is deprecated in 1.0 and will be removed in 1.2. Please use get_feature_names_out instead.\n",
      "  warnings.warn(msg, category=FutureWarning)\n",
      "/usr/local/lib/python3.9/dist-packages/sklearn/utils/deprecation.py:87: FutureWarning: Function get_feature_names is deprecated; get_feature_names is deprecated in 1.0 and will be removed in 1.2. Please use get_feature_names_out instead.\n",
      "  warnings.warn(msg, category=FutureWarning)\n",
      "/usr/local/lib/python3.9/dist-packages/sklearn/utils/deprecation.py:87: FutureWarning: Function get_feature_names is deprecated; get_feature_names is deprecated in 1.0 and will be removed in 1.2. Please use get_feature_names_out instead.\n",
      "  warnings.warn(msg, category=FutureWarning)\n",
      "/usr/local/lib/python3.9/dist-packages/sklearn/utils/deprecation.py:87: FutureWarning: Function get_feature_names is deprecated; get_feature_names is deprecated in 1.0 and will be removed in 1.2. Please use get_feature_names_out instead.\n",
      "  warnings.warn(msg, category=FutureWarning)\n",
      "/usr/local/lib/python3.9/dist-packages/sklearn/utils/deprecation.py:87: FutureWarning: Function get_feature_names is deprecated; get_feature_names is deprecated in 1.0 and will be removed in 1.2. Please use get_feature_names_out instead.\n",
      "  warnings.warn(msg, category=FutureWarning)\n"
     ]
    }
   ],
   "source": [
    "columns_to_convert = [\"marital\", \"education\", \"contact\", \"day.of.week\", \"poutcome\"]\n",
    "for c in columns_to_convert:\n",
    "    df = convert_feature_one_hot_encoder(df, c)\n",
    "    \n",
    "df.drop(columns_to_convert, axis=1, inplace=True)\n",
    "\n",
    "# Normalizing all features between -1 and 1\n",
    "scaler = MinMaxScaler(feature_range=(-1, 1))\n",
    "scaler.fit(df.values)\n",
    "data = scaler.transform(df.values)"
   ]
  },
  {
   "cell_type": "markdown",
   "id": "7e138c10-6def-48f4-b133-7be49ee76ed2",
   "metadata": {},
   "source": [
    "### Searching for the best K"
   ]
  },
  {
   "cell_type": "code",
   "execution_count": 41,
   "id": "fb5384fb-becf-4f89-9cd4-ec8400b8e511",
   "metadata": {},
   "outputs": [
    {
     "data": {
      "image/png": "[encoded data removed]",
      "text/plain": [
       "<Figure size 1152x576 with 1 Axes>"
      ]
     },
     "metadata": {
      "needs_background": "light"
     },
     "output_type": "display_data"
    }
   ],
   "source": [
    "# Clusters size. From 1 to 20\n",
    "k_clusters = [i for i in range(1,16)]\n",
    "results = []\n",
    "labels = []\n",
    "\n",
    "for k in k_clusters:\n",
    "    k_means = KMeans(n_clusters=k, random_state=0)\n",
    "    labels = k_means.fit(data)\n",
    "    results.append(k_means.inertia_)\n",
    "\n",
    "plt.figure(figsize=(16,8))\n",
    "plt.plot(k_clusters, results, \"bx-\")\n",
    "plt.xlabel(\"k\")\n",
    "plt.ylabel(\"Sum of squared distances\")\n",
    "plt.title(\"Elbow Method showing the optimal k\")\n",
    "plt.show()\n"
   ]
  },
  {
   "cell_type": "markdown",
   "id": "c6382168-6521-41a2-972b-7f8506f6dd99",
   "metadata": {},
   "source": [
    "#### As we can see in the graph above, it is hard to distinguish the \"elbow\" of the curve. Giving the behaviour of the curve, we could chose between 3, 4 and 5."
   ]
  },
  {
   "cell_type": "code",
   "execution_count": 35,
   "id": "8e07b6f6-171b-4263-a72c-cdea5cd3fb0c",
   "metadata": {},
   "outputs": [
    {
     "data": {
      "image/png": "[encoded data removed]",
      "text/plain": [
       "<Figure size 432x288 with 1 Axes>"
      ]
     },
     "metadata": {
      "needs_background": "light"
     },
     "output_type": "display_data"
    },
    {
     "data": {
      "image/png": "[encoded data removed]",
      "text/plain": [
       "<Figure size 432x288 with 1 Axes>"
      ]
     },
     "metadata": {
      "needs_background": "light"
     },
     "output_type": "display_data"
    },
    {
     "data": {
      "image/png": "[encoded data removed]",
      "text/plain": [
       "<Figure size 432x288 with 1 Axes>"
      ]
     },
     "metadata": {
      "needs_background": "light"
     },
     "output_type": "display_data"
    },
    {
     "data": {
      "image/png": "[encoded data removed]",
      "text/plain": [
       "<Figure size 432x288 with 1 Axes>"
      ]
     },
     "metadata": {
      "needs_background": "light"
     },
     "output_type": "display_data"
    }
   ],
   "source": [
    "# Plot all K-Means clusters\n",
    "u_labels = np.unique(label)\n",
    "for i in u_labels:\n",
    "    plt.scatter(data[label == i , 0] , data[label == i , 1] , label = i)\n",
    "plt.legend()\n",
    "plt.title(\"All K-Means clusters\")\n",
    "plt.show()\n",
    "\n",
    "# Plot only K-Means Clusters 3, 4 and 5, individually\n",
    "for i in range(3, 6):\n",
    "    plt.scatter(data[label == i , 0] , data[label == i , 1] , label = i)\n",
    "    plt.legend()\n",
    "    plt.title(\"K-Means cluster %d\" % (i))\n",
    "    plt.show()"
   ]
  },
  {
   "cell_type": "code",
   "execution_count": null,
   "id": "0d38436b-e0bd-489c-a9d7-8315edf276b1",
   "metadata": {},
   "outputs": [],
   "source": []
  }
 ],
 "metadata": {
  "kernelspec": {
   "display_name": "Python 3 (ipykernel)",
   "language": "python",
   "name": "python3"
  },
  "language_info": {
   "codemirror_mode": {
    "name": "ipython",
    "version": 3
   },
   "file_extension": ".py",
   "mimetype": "text/x-python",
   "name": "python",
   "nbconvert_exporter": "python",
   "pygments_lexer": "ipython3",
   "version": "3.9.12"
  }
 },
 "nbformat": 4,
 "nbformat_minor": 5
}
